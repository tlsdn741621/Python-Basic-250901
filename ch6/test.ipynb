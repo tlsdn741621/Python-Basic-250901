{
 "cells": [
  {
   "cell_type": "code",
   "id": "initial_id",
   "metadata": {
    "collapsed": true,
    "ExecuteTime": {
     "end_time": "2025-09-03T05:53:17.403560Z",
     "start_time": "2025-09-03T05:53:17.396733Z"
    }
   },
   "source": [
    "# 파이썬 클래스(Class) 기본 개념\n",
    "# **클래스(Class)**는\n",
    "# 객체를 만들어 내기 위한 '설계도'\n",
    "# 또는 **'틀'**이라고 생각하시면 쉬워요.\n",
    "# 📏 예를 들어 '빵틀'이 있다면,\n",
    "# 그 빵틀을 이용해 똑같은 모양의 '빵'을 여러 개 만들어 낼 수 있겠죠?\n",
    "# 여기서 **클래스는 '빵틀'**에 해당하고, 만들어진 각각의\n",
    "# **빵은 '객체(Object)'**에 해당합니다.\n",
    "#\n",
    "# 클래스 (Class):\n",
    "# 객체가 가져야 할 속성(데이터, 변수)과 행동(기능, 함수)을 정의한 것.\n",
    "#\n",
    "# 객체 (Object) 또는 인스턴스 (Instance):\n",
    "# 클래스라는 설계도를 바탕으로 실제 메모리에 만들어진 실체.\n",
    "# 클래스로부터 생성된 객체를 '인스턴스'라고도 부릅니다.\n",
    "#\n",
    "# 속성 (Attribute):\n",
    "# 클래스 내에 정의된 변수로,\n",
    "# 객체의 상태나 데이터를 나타냅니다. (예: 사람의 이름, 나이)\n",
    "#\n",
    "# 메서드 (Method): 클래스 내에 정의된 함수로,\n",
    "# 객체가 수행할 수 있는 동작을 나타냅니다. (예: 사람이 걷다, 말하다)\n",
    "#\n",
    "# 클래스를 사용하면 데이터와 기능을 하나로 묶어 코드를 체계적으로 관리하고 재사용하기 쉬워집니다.\n",
    "\n",
    "\n",
    "#기본문법\n",
    "class 클래스이름:\n",
    "    # 생성자 메서드: 객체가 생성될 때 자동으로 호출됨\n",
    "    def __init__(self, 매개변수1, 매개변수2, ...):\n",
    "        self.속성이름1 = 매개변수1  # 속성(인스턴스 변수) 초기화\n",
    "        self.속성이름2 = 매개변수2\n",
    "        # ...\n",
    "\n",
    "    # 메서드(기능) 정의\n",
    "    def 메서드이름(self, 추가_매개변수, ...):\n",
    "        # 메서드가 수행할 코드\n",
    "        # self.속성이름 을 사용하여 객체의 속성에 접근 가능\n",
    "        pass"
   ],
   "outputs": [
    {
     "ename": "SyntaxError",
     "evalue": "invalid syntax (3582531449.py, line 30)",
     "output_type": "error",
     "traceback": [
      "  \u001B[36mCell\u001B[39m\u001B[36m \u001B[39m\u001B[32mIn[12]\u001B[39m\u001B[32m, line 30\u001B[39m\n\u001B[31m    \u001B[39m\u001B[31mdef __init__(self, 매개변수1, 매개변수2, ...):\u001B[39m\n                                     ^\n\u001B[31mSyntaxError\u001B[39m\u001B[31m:\u001B[39m invalid syntax\n"
     ]
    }
   ],
   "execution_count": 12
  },
  {
   "metadata": {
    "ExecuteTime": {
     "end_time": "2025-09-03T06:02:03.880706Z",
     "start_time": "2025-09-03T06:02:03.876470Z"
    }
   },
   "cell_type": "code",
   "source": [
    "# '사람'에 대한 설계도(클래스)를 만듭니다.\n",
    "class Person:\n",
    "    # 객체를 생성할 때 이름과 나이를 받아 초기화합니다.\n",
    "    def __init__(self, name, age):\n",
    "        self.name = name  # self.name은 이 객체의 이름 속성이 됩니다.\n",
    "        self.age = age    # self.age는 이 객체의 나이 속성이 됩니다.\n",
    "        print(f\"{self.name} 객체가 생성되었습니다.(=생성자를 호출)\")\n",
    "\n",
    "    # 자기소개를 하는 메서드(기능)입니다.\n",
    "    def introduce(self):\n",
    "        # self를 이용해 자신의 속성(name, age)에 접근합니다.\n",
    "        print(f\"안녕하세요, 제 이름은 {self.name}이고, 나이는 {self.age}살입니다.\")\n",
    "\n",
    "    def __str__(self): # 자바의 @Override , toString() 역할이 똑같다. -> @ToString, @Data\n",
    "        return \"해당 클래스의 인스턴스를 호출시 , 나타나는 문자열 메서드입니다.\""
   ],
   "id": "daca42bc9f321012",
   "outputs": [],
   "execution_count": 20
  },
  {
   "metadata": {
    "ExecuteTime": {
     "end_time": "2025-09-03T06:02:05.483053Z",
     "start_time": "2025-09-03T06:02:05.478516Z"
    }
   },
   "cell_type": "code",
   "source": [
    "# Person 클래스를 이용해 첫 번째 사람(객체) 'p1'을 생성합니다.\n",
    "# __init__ 메서드가 자동으로 호출됩니다.\n",
    "p1 = Person(\"홍길동\", 30)\n",
    "\n",
    "# Person 클래스를 이용해 두 번째 사람(객체) 'p2'를 생성합니다.\n",
    "p2 = Person(\"이순신\", 45)\n",
    "\n",
    "# 각 객체의 메서드를 호출합니다.\n",
    "print(\"\\n--- 자기소개 시작 ---\")\n",
    "p1.introduce()  # p1 객체의 introduce 메서드 실행\n",
    "p2.introduce()  # p2 객체의 introduce 메서드 실행\n",
    "\n",
    "# 객체의 속성에 직접 접근할 수도 있습니다.\n",
    "print(f\"\\n첫 번째 사람의 이름은 {p1.name}입니다.\")\n",
    "\n",
    "print(f\"단순 인스턴스 자체를 출력 하는 경우 p1 : \",p1)"
   ],
   "id": "cb540d5d73ff9a95",
   "outputs": [
    {
     "name": "stdout",
     "output_type": "stream",
     "text": [
      "홍길동 객체가 생성되었습니다.(=생성자를 호출)\n",
      "이순신 객체가 생성되었습니다.(=생성자를 호출)\n",
      "\n",
      "--- 자기소개 시작 ---\n",
      "안녕하세요, 제 이름은 홍길동이고, 나이는 30살입니다.\n",
      "안녕하세요, 제 이름은 이순신이고, 나이는 45살입니다.\n",
      "\n",
      "첫 번째 사람의 이름은 홍길동입니다.\n",
      "단순 인스턴스 자체를 출력 하는 경우 p1 :  해당 클래스의 인스턴스를 호출시 , 나타나는 문자열 메서드입니다.\n"
     ]
    }
   ],
   "execution_count": 21
  },
  {
   "metadata": {
    "ExecuteTime": {
     "end_time": "2025-09-03T06:02:30.098441Z",
     "start_time": "2025-09-03T06:02:30.094281Z"
    }
   },
   "cell_type": "code",
   "source": [
    "# 파이썬, 클래스 상속 예시.\n",
    "# is A,\n",
    "# 예) 강아지는 동물이다.\n",
    "\n",
    "# 부모 클래스: 모든 '탈것'의 공통적인 특징을 정의합니다.\n",
    "class Vehicle:\n",
    "    def __init__(self, speed):\n",
    "        self.speed = speed\n",
    "        print(f\"생성자 호출, 인스턴스 생성!!! 탈것이 시속 {self.speed}km로 생성되었습니다.\")\n",
    "\n",
    "    def drive(self):\n",
    "        print(f\"drive 메서드 호출 !!!탈것이 시속 {self.speed}km로 달립니다.\")\n",
    "\n",
    "# 자식 클래스: Vehicle을 상속받아 '자동차'를 정의합니다.\n",
    "class Car(Vehicle):  # 괄호 안에 부모 클래스 이름을 넣어 상속받습니다.\n",
    "    def honk(self):\n",
    "        print(\"honk 메서드 호출 !!!!빵빵! 자동차가 경적을 울립니다.\")"
   ],
   "id": "89b4122162569779",
   "outputs": [],
   "execution_count": 22
  },
  {
   "metadata": {
    "ExecuteTime": {
     "end_time": "2025-09-03T06:02:34.776969Z",
     "start_time": "2025-09-03T06:02:34.772573Z"
    }
   },
   "cell_type": "code",
   "source": [
    "# '자동차' 객체를 생성합니다.\n",
    "# Car 클래스에는 __init__이 없지만, 부모인 Vehicle의 __init__이 호출됩니다.\n",
    "my_car = Car(100)\n",
    "\n",
    "print(\"\\n--- 기능 테스트 ---\")\n",
    "# 부모(Vehicle)로부터 물려받은 메서드 사용\n",
    "my_car.drive()\n",
    "\n",
    "# 자신(Car)에게만 있는 고유한 메서드 사용\n",
    "my_car.honk()\n",
    "\n",
    "# 부모(Vehicle)로부터 물려받은 속성에도 접근 가능\n",
    "print(f\"\\n이 자동차의 현재 속도는 {my_car.speed}km/h 입니다.\")"
   ],
   "id": "d9091256479ad956",
   "outputs": [
    {
     "name": "stdout",
     "output_type": "stream",
     "text": [
      "생성자 호출, 인스턴스 생성!!! 탈것이 시속 100km로 생성되었습니다.\n",
      "\n",
      "--- 기능 테스트 ---\n",
      "drive 메서드 호출 !!!탈것이 시속 100km로 달립니다.\n",
      "honk 메서드 호출 !!!!빵빵! 자동차가 경적을 울립니다.\n",
      "\n",
      "이 자동차의 현재 속도는 100km/h 입니다.\n"
     ]
    }
   ],
   "execution_count": 23
  },
  {
   "metadata": {
    "ExecuteTime": {
     "end_time": "2025-09-03T06:12:25.488929Z",
     "start_time": "2025-09-03T06:12:25.484274Z"
    }
   },
   "cell_type": "code",
   "source": [
    "#다형성 예시 코드\n",
    "# 부모 클래스: Animal\n",
    "class Animal:\n",
    "    def speak(self):\n",
    "        # 이 메서드는 자식 클래스에서 재정의될 것을 가정합니다.\n",
    "        pass\n",
    "\n",
    "# 자식 클래스: Dog\n",
    "class Dog(Animal):\n",
    "    def speak(self):\n",
    "        return \"멍멍!\"\n",
    "\n",
    "# 자식 클래스: Cat\n",
    "class Cat(Animal):\n",
    "    def speak(self):\n",
    "        return \"야옹~\"\n",
    "\n",
    "# --- 다형성 실행 ---\n",
    "# animals 리스트에는 Animal의 자식 클래스 객체들이 담겨 있습니다.\n",
    "animals = [Dog(), Cat()]\n",
    "\n",
    "# 반복문을 통해 각 동물의 소리를 들어봅니다.\n",
    "for animal in animals:\n",
    "    # animal 변수는 루프마다 Dog 객체였다가 Cat 객체가 됩니다.\n",
    "    # 똑같이 animal.speak()를 호출했지만,\n",
    "    # 실제 객체가 무엇이냐에 따라 다른 결과가 출력됩니다.\n",
    "    print(f\"이 동물의 소리는? {animal.speak()}\")"
   ],
   "id": "ee5dfe182af1a200",
   "outputs": [
    {
     "name": "stdout",
     "output_type": "stream",
     "text": [
      "이 동물의 소리는? 멍멍!\n",
      "이 동물의 소리는? 야옹~\n"
     ]
    }
   ],
   "execution_count": 24
  },
  {
   "metadata": {},
   "cell_type": "code",
   "outputs": [],
   "execution_count": null,
   "source": [
    "#가시성 예시,\n",
    "# 직접 접근이 안되고, 속성을 이용해서 접근 한다.\n",
    "# 자바 : public, private, protected, default\n",
    "# 파이썬,\n",
    "# @property를 사용해 더 세련된 접근 제어를 구현합니다.\n",
    "#\n",
    "# Public (공개): 아무 접두사 없음.\n",
    "# (예: name) 어디서든 자유롭게 접근 가능.\n",
    "#\n",
    "# Protected (보호): 언더스코어 한 개.\n",
    "# (예: _age) \"우리와 우리 자식 클래스들만 사용하자\"는 약속.\n",
    "# 외부 접근이 가능은 하지만 하지 않는 것이 규칙.\n",
    "#\n",
    "# Private (비공개): 언더스코어 두 개.\n",
    "# (예: __wallet_balance) 클래스 내부에서만 사용.\n",
    "# 외부에서 직접 접근하려고 하면\n",
    "# **이름이 변경(Name Mangling)**되어 오류가 발생함."
   ],
   "id": "76148938a3fce8a8"
  },
  {
   "metadata": {
    "ExecuteTime": {
     "end_time": "2025-09-03T06:29:56.839265Z",
     "start_time": "2025-09-03T06:29:56.835093Z"
    }
   },
   "cell_type": "code",
   "source": [
    "class PersonDirect:\n",
    "    def __init__(self, name, age):\n",
    "        self.name = name\n",
    "        self.age = age # 나이(age) 속성에 누구나 직접 접근 가능\n",
    "\n",
    "# 객체 생성\n",
    "p1 = PersonDirect(\"홍길동\", 30)\n",
    "print(f\"초기 나이: {p1.age}\")\n",
    "\n",
    "# 🚨 문제점: 나이에 말도 안 되는 값을 직접 할당할 수 있음\n",
    "p1.age = -100 # 나이가 음수가 되는 것을 막을 방법이 없음\n",
    "print(f\"변경된 나이: {p1.age}\") # 논리적으로 잘못된 데이터가 저장됨"
   ],
   "id": "f87573f1cb1c0c09",
   "outputs": [
    {
     "name": "stdout",
     "output_type": "stream",
     "text": [
      "초기 나이: 30\n",
      "변경된 나이: -100\n"
     ]
    }
   ],
   "execution_count": 25
  },
  {
   "metadata": {
    "ExecuteTime": {
     "end_time": "2025-09-03T06:30:01.626657Z",
     "start_time": "2025-09-03T06:30:01.619568Z"
    }
   },
   "cell_type": "code",
   "source": [
    "class PersonProperty:\n",
    "    def __init__(self, name, age):\n",
    "        self.name = name\n",
    "        self._age = age  # 실제 데이터는 '_age'에 저장 (보호 멤버)\n",
    "\n",
    "    @property\n",
    "    def age(self):  # getter: 'age' 속성을 읽으려고 할 때 호출됨\n",
    "        print(\">> getter가 호출되었습니다.\")\n",
    "        return self._age\n",
    "\n",
    "    @age.setter\n",
    "    def age(self, value): # setter: 'age' 속성에 값을 할당하려고 할 때 호출됨\n",
    "        print(\">> setter가 호출되었습니다.\")\n",
    "        if value > 0:\n",
    "            self._age = value\n",
    "        else:\n",
    "            print(\"🚨 오류: 나이는 0보다 커야 합니다.\")\n",
    "\n",
    "# 객체 생성\n",
    "p2 = PersonProperty(\"이순신\", 45)\n",
    "\n",
    "# 값 읽기 (getter 호출)\n",
    "print(f\"초기 나이: {p2.age}\") # p2.age()가 아닌 p2.age처럼 속성처럼 사용\n",
    "\n",
    "# 값 변경 (setter 호출)\n",
    "print(\"\\n--- 유효한 값으로 변경 시도 ---\")\n",
    "p2.age = 50\n",
    "print(f\"변경된 나이: {p2.age}\")\n",
    "\n",
    "print(\"\\n--- 유효하지 않은 값으로 변경 시도 ---\")\n",
    "p2.age = -10 # setter 내부의 유효성 검사에 걸림\n",
    "print(f\"유효하지 않은 값 할당 후 나이: {p2.age}\")"
   ],
   "id": "2b1e7bfb9b6671aa",
   "outputs": [
    {
     "name": "stdout",
     "output_type": "stream",
     "text": [
      ">> getter가 호출되었습니다.\n",
      "초기 나이: 45\n",
      "\n",
      "--- 유효한 값으로 변경 시도 ---\n",
      ">> setter가 호출되었습니다.\n",
      ">> getter가 호출되었습니다.\n",
      "변경된 나이: 50\n",
      "\n",
      "--- 유효하지 않은 값으로 변경 시도 ---\n",
      ">> setter가 호출되었습니다.\n",
      "🚨 오류: 나이는 0보다 커야 합니다.\n",
      ">> getter가 호출되었습니다.\n",
      "유효하지 않은 값 할당 후 나이: 50\n"
     ]
    }
   ],
   "execution_count": 26
  },
  {
   "metadata": {
    "ExecuteTime": {
     "end_time": "2025-09-03T06:30:08.128135Z",
     "start_time": "2025-09-03T06:30:08.123239Z"
    }
   },
   "cell_type": "code",
   "source": [
    "class PersonPrivate:\n",
    "    def __init__(self, secret):\n",
    "        # 비공개 멤버: 클래스 외부에서는 직접 접근할 수 없음\n",
    "        self.__secret = secret\n",
    "\n",
    "    def get_secret(self):\n",
    "        return self.__secret\n",
    "\n",
    "p3 = PersonPrivate(\"중요한 비밀번호\")\n",
    "\n",
    "# 메서드를 통해서는 접근 가능\n",
    "print(f\"메서드를 통한 접근: {p3.get_secret()}\")\n",
    "\n",
    "# 🚨 오류 발생: 비공개 멤버에 직접 접근 시도\n",
    "try:\n",
    "    print(p3.__secret)\n",
    "except AttributeError as e:\n",
    "    print(f\"\\n직접 접근 시도 결과: {e}\")"
   ],
   "id": "f1427b83bd9a268f",
   "outputs": [
    {
     "name": "stdout",
     "output_type": "stream",
     "text": [
      "메서드를 통한 접근: 중요한 비밀번호\n",
      "\n",
      "직접 접근 시도 결과: 'PersonPrivate' object has no attribute '__secret'\n"
     ]
    }
   ],
   "execution_count": 27
  },
  {
   "metadata": {},
   "cell_type": "markdown",
   "source": [
    "접근 방식\t코드 예시\t장점\t단점\n",
    "직접 접근 (Public)\tp1.age = -100\t코드가 간단하고 직관적\t데이터 무결성을 해치기 쉬움\n",
    "@property 사용\tp2.age = 50\t속성처럼 편하게 사용하면서도 값 검증 등 제어가 가능\t코드가 조금 더 길어짐\n",
    "비공개 멤버 (__)\tp3.__secret\t클래스 외부에서의 접근을 강력하게 방지\t유연성이 떨어지고, 작정하고 접근하면 불가능하진 않음"
   ],
   "id": "737bd1c0dc03f405"
  }
 ],
 "metadata": {
  "kernelspec": {
   "display_name": "Python 3",
   "language": "python",
   "name": "python3"
  },
  "language_info": {
   "codemirror_mode": {
    "name": "ipython",
    "version": 2
   },
   "file_extension": ".py",
   "mimetype": "text/x-python",
   "name": "python",
   "nbconvert_exporter": "python",
   "pygments_lexer": "ipython2",
   "version": "2.7.6"
  }
 },
 "nbformat": 4,
 "nbformat_minor": 5
}
