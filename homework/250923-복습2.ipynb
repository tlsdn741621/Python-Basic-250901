{
 "cells": [
  {
   "cell_type": "code",
   "id": "initial_id",
   "metadata": {
    "collapsed": true,
    "ExecuteTime": {
     "end_time": "2025-09-03T00:34:11.640220Z",
     "start_time": "2025-09-03T00:34:11.633219Z"
    }
   },
   "source": [
    "#미니실습 #파이썬기초 #bigdata_with_python\n",
    "\n",
    "# 리스트, 셋, 튜플, 딕션너리 활용1\n",
    "\n",
    "# 🔹 기본 실습 1: 리스트 활용 (추가, 삭제, 수정, 조회, 검색)\n",
    "# 문제:\n",
    "# 리스트를 활용하여 다음 기능을 수행하는 프로그램을 작성하세요.\n",
    "#\n",
    "# 사용자가 입력한 값을 리스트에 추가\n",
    "# 특정 인덱스의 값을 변경\n",
    "# 리스트에서 특정 값을 삭제\n",
    "# 리스트의 모든 요소 조회\n",
    "# 특정 값이 리스트에 있는지 검색\n",
    "#\n",
    "# 단순 기능 구현만 보이기\n",
    "#\n",
    "# 예시)\n",
    "my_list =[]\n",
    "# 1. 추가\n",
    "my_list.append(\"사과\")\n",
    "my_list.append(\"바나나\")\n",
    "my_list.append(\"체리\")\n",
    "print(f\"my_list 추가 출력1 : {my_list}\")\n",
    "#\n",
    "# # 2. 수정 (첫 번째 요소 변경)\n",
    "my_list[0] = \"오렌지\"\n",
    "print(f\"my_list 수정 출력2 : {my_list}\")\n",
    "#\n",
    "# 3. 삭제 (바나나 삭제)\n",
    "my_list.remove(\"바나나\")\n",
    "print(f\"my_list 삭제 출력3 : {my_list}\")\n",
    "#\n",
    "# 4. 조회 (전체 출력)\n",
    "# print(\"현재 리스트:\", my_list)\n",
    "print(f\"my_list 전체 출력 출력4 : {my_list}\")\n",
    "#\n",
    "# # 5. 검색 (체리가 있는지 확인)\n",
    "search_item = \"체리\"\n",
    "if search_item in my_list:\n",
    "    print(f\" my_list 검색 출력5'{search_item}'가 리스트에 존재합니다.\")\n",
    "else:\n",
    "    print(f\" my_list 검색 출력5'{search_item}'가 리스트에 없습니다.\")\n",
    "\n",
    "\n",
    "\n",
    "\n"
   ],
   "outputs": [
    {
     "name": "stdout",
     "output_type": "stream",
     "text": [
      "my_list 추가 출력1 : ['사과', '바나나', '체리']\n",
      "my_list 수정 출력2 : ['오렌지', '바나나', '체리']\n",
      "my_list 삭제 출력3 : ['오렌지', '체리']\n",
      "my_list 전체 출력 출력4 : ['오렌지', '체리']\n",
      " my_list 검색 출력5'체리'가 리스트에 존재합니다.\n"
     ]
    }
   ],
   "execution_count": 6
  },
  {
   "metadata": {
    "ExecuteTime": {
     "end_time": "2025-09-03T00:36:29.602750Z",
     "start_time": "2025-09-03T00:36:29.598314Z"
    }
   },
   "cell_type": "code",
   "source": [
    "# 🔹 기본 실습 2: 튜플 활용 (조회, 검색)\n",
    "# 문제:\n",
    "# 튜플을 활용하여 다음 기능을 수행하는 프로그램을 작성하세요.\n",
    "#\n",
    "my_tuple = (\"사과\",\"바나나\",\"체리\")\n",
    "# 1\n",
    "# 주어진 튜플에서 특정 인덱스의 값을 조회\n",
    "print(f\"튜플의 첫번째 인덱스 요소 조회 : {my_tuple[0]}\")\n",
    "# 2\n",
    "# 특정 값이 튜플에 있는지 검색\n",
    "search_item = \"체리\"\n",
    "if search_item in my_tuple:\n",
    "    print(f\" my_tuple 검색 출력2'{search_item}'가 튜플에 존재합니다.\")\n",
    "else:\n",
    "    print(f\" my_tuple 검색 출력2'{search_item}'가 튜플에 없습니다.\")\n",
    "#\n",
    "# 단순 기능 구현만 보이기\n",
    "\n"
   ],
   "id": "9234169a398c387b",
   "outputs": [
    {
     "name": "stdout",
     "output_type": "stream",
     "text": [
      "튜플의 첫번째 인덱스 요소 조회 : 사과\n",
      " my_tuple 검색 출력2'체리'가 리스트에 존재합니다.\n"
     ]
    }
   ],
   "execution_count": 8
  },
  {
   "metadata": {
    "ExecuteTime": {
     "end_time": "2025-09-03T00:39:28.265636Z",
     "start_time": "2025-09-03T00:39:28.260975Z"
    }
   },
   "cell_type": "code",
   "source": [
    "# 🔹 기본 실습 3: 셋 활용 (추가, 삭제, 조회, 검색)\n",
    "# 문제:\n",
    "# 셋을 활용하여 다음 기능을 수행하는 프로그램을 작성하세요.\n",
    "#\n",
    "my_set = {\"사과\",\"바나나\",\"체리\"}\n",
    "# 사용자가 입력한 값을 셋에 추가\n",
    "my_set.add(\"포도\")\n",
    "print(f\"my_set 추가 출력1 : {my_set}\")\n",
    "# 특정 값을 삭제\n",
    "my_set.discard(\"체리\")\n",
    "print(f\"my_set 삭제 출력2 : {my_set}\")\n",
    "# 셋의 모든 요소 조회\n",
    "print(f\"my_set 모든 요소 조회 출력3 : {my_set}\")\n",
    "# 특정 값이 셋에 있는지 검색\n",
    "search_item = \"포도\"\n",
    "if search_item in my_set:\n",
    "    print(f\" my_set 검색 출력3'{search_item}'가 셋에 존재합니다.\")\n",
    "else:\n",
    "    print(f\" my_set 검색 출력3'{search_item}'가 셋에 없습니다.\")\n",
    "# 단순 기능 구현만 보이기\n",
    "\n",
    "\n"
   ],
   "id": "8abecd264925852b",
   "outputs": [
    {
     "name": "stdout",
     "output_type": "stream",
     "text": [
      "my_set 추가 출력1 : {'사과', '체리', '바나나', '포도'}\n",
      "my_set 삭제 출력2 : {'사과', '바나나', '포도'}\n",
      "my_set 모든 요소 조회 출력3 : {'사과', '바나나', '포도'}\n",
      " my_set 검색 출력3'포도'가 셋에 존재합니다.\n"
     ]
    }
   ],
   "execution_count": 12
  },
  {
   "metadata": {},
   "cell_type": "code",
   "outputs": [],
   "execution_count": null,
   "source": [
    "# 🔹 응용 실습 1: 학생 목록 관리 (리스트 활용)\n",
    "# 문제:\n",
    "# 학생 이름을 저장하는 리스트를 활용하여 다음 기능을 구현하세요.\n",
    "#\n",
    "# 학생 추가\n",
    "# 학생 삭제\n",
    "# 학생 목록 출력\n",
    "# 특정 학생이 목록에 있는지 검색\n",
    "#\n",
    "# 단순 기능 구현만 보이기\n",
    "\n",
    "\n"
   ],
   "id": "7c608233ac48499b"
  },
  {
   "metadata": {
    "ExecuteTime": {
     "end_time": "2025-09-03T00:44:23.663271Z",
     "start_time": "2025-09-03T00:44:23.658087Z"
    }
   },
   "cell_type": "code",
   "source": [
    "# 🔹 응용 실습 2: 상품 재고 관리 (딕셔너리 활용)\n",
    "# 문제:\n",
    "# 딕셔너리를 활용하여 상품 재고를 관리하는 프로그램을 작성하세요.\n",
    "#\n",
    "my_dict = {\"사과\" : 10, \"바나나\" : 5, \"체리\": 8}\n",
    "# 새로운 상품 추가\n",
    "my_dict[\"포도\"] = 12\n",
    "print(f\"my_dict 추가 출력1 : {my_dict}\")\n",
    "# 특정 상품의 재고 변경\n",
    "my_dict[\"사과\"] = 5\n",
    "print(f\"my_dict 재고 변경 출력2 : {my_dict}\")\n",
    "# 특정 상품 삭제\n",
    "del my_dict[\"체리\"]\n",
    "print(f\"my_dict 체리 삭제 출력3 : {my_dict}\")\n",
    "# 전체 상품 목록 조회\n",
    "print(f\"my_dict 전체 상품 목록 조회 출력4 : {my_dict}\")\n",
    "# 특정 상품 검색\n",
    "search_item = \"포도\"\n",
    "if search_item in my_dict:\n",
    "    print(f\" my_dict 검색 출력5'{search_item}'가 딕션너리에 존재합니다. 수량 : {my_dict[search_item]}\")\n",
    "else:\n",
    "    print(f\" my_dict 검색 출력5'{search_item}'가 딕션너리에 없습니다.\")\n",
    "#\n",
    "# 단순 기능 구현만 보이기\n",
    "\n"
   ],
   "id": "56ecf6658a3335e2",
   "outputs": [
    {
     "name": "stdout",
     "output_type": "stream",
     "text": [
      "my_dict 추가 출력1 : {'사과': 10, '바나나': 5, '체리': 8, '포도': 12}\n",
      "my_dict 재고 변경 출력2 : {'사과': 5, '바나나': 5, '체리': 8, '포도': 12}\n",
      "my_dict 체리 삭제 출력3 : {'사과': 5, '바나나': 5, '포도': 12}\n",
      "my_dict 전체 상품 목록 조회 출력4 : {'사과': 5, '바나나': 5, '포도': 12}\n",
      " my_dict 검색 출력5'포도'가 딕션너리에 존재합니다. 수량 : 12\n"
     ]
    }
   ],
   "execution_count": 18
  },
  {
   "metadata": {},
   "cell_type": "code",
   "outputs": [],
   "execution_count": null,
   "source": [
    "# 🔹 응용 실습 3: 유일한 값 추출기 (셋 활용)\n",
    "# 문제:\n",
    "# 리스트에서 중복된 값을 제거하고, 유일한 값들만 저장하는 프로그램을 작성하세요.\n",
    "#\n",
    "# 단순 기능 구현만 보이기"
   ],
   "id": "18aa870cdbda61c5"
  }
 ],
 "metadata": {
  "kernelspec": {
   "display_name": "Python 3",
   "language": "python",
   "name": "python3"
  },
  "language_info": {
   "codemirror_mode": {
    "name": "ipython",
    "version": 2
   },
   "file_extension": ".py",
   "mimetype": "text/x-python",
   "name": "python",
   "nbconvert_exporter": "python",
   "pygments_lexer": "ipython2",
   "version": "2.7.6"
  }
 },
 "nbformat": 4,
 "nbformat_minor": 5
}
