{
 "cells": [
  {
   "cell_type": "code",
   "id": "initial_id",
   "metadata": {
    "collapsed": true,
    "ExecuteTime": {
     "end_time": "2025-09-02T02:22:44.245400Z",
     "start_time": "2025-09-02T02:22:29.663566Z"
    }
   },
   "source": [
    "# list 를 함수, push(), pop() 이용해서, 스택처럼 사용해보기.\n",
    "word = input(\"문자열 입력해주세요: \")\n",
    "# input 함수 이용해서, 문자열 받고 , 다시, 문자열 -> 리스로 변환: list() 함수.\n",
    "word_list = list(word)\n",
    "print(f\"word_list : {word_list}\")\n",
    "\n",
    "# 임시로 저장할 빈 리스트, 참고로 전역.\n",
    "result = []\n",
    "# len 함수는 크기를 반환하는 함수.\n",
    "# word_list , pop() 함수로 꺼내서, result 임시 리스트에 담기. 반복문.\n",
    "for _ in range(len(word_list)):\n",
    "  result.append(word_list.pop(0))\n",
    "\n",
    "# 스택의 자료구조 형식을 이용해서 역순 출력\n",
    "print(f\"result 조회 해보기 : {result}\")\n",
    "# 단순, 슬라이싱을 이용해서, 역순 출력.\n",
    "print(f\"word 조회 해보기. [::-1] : {word[::-1]}\")"
   ],
   "outputs": [
    {
     "name": "stdout",
     "output_type": "stream",
     "text": [
      "word_list : ['오', '늘', ' ', '점', '심', ' ', '뭐', '먹', '지', '?']\n",
      "result 조회 해보기 : ['오', '늘', ' ', '점', '심', ' ', '뭐', '먹', '지', '?']\n",
      "word 조회 해보기. [::-1] : ?지먹뭐 심점 늘오\n"
     ]
    }
   ],
   "execution_count": 1
  },
  {
   "metadata": {
    "ExecuteTime": {
     "end_time": "2025-09-02T02:38:09.428506Z",
     "start_time": "2025-09-02T02:38:09.424731Z"
    }
   },
   "cell_type": "code",
   "source": [
    "a = [1,2,3]\n",
    "a[0] = 100\n",
    "print(a)"
   ],
   "id": "7a5568b9d854e0d1",
   "outputs": [
    {
     "name": "stdout",
     "output_type": "stream",
     "text": [
      "[100, 2, 3]\n"
     ]
    }
   ],
   "execution_count": 2
  },
  {
   "metadata": {
    "ExecuteTime": {
     "end_time": "2025-09-02T02:38:52.881641Z",
     "start_time": "2025-09-02T02:38:52.877521Z"
    }
   },
   "cell_type": "code",
   "source": [
    "#튜플은 리스트와 기능이 동일함. 변경 불가.\n",
    "a = (1,2,3)\n",
    "# a[0] = 100\n",
    "print(a)"
   ],
   "id": "93bb5011f669930e",
   "outputs": [
    {
     "name": "stdout",
     "output_type": "stream",
     "text": [
      "(1, 2, 3)\n"
     ]
    }
   ],
   "execution_count": 6
  },
  {
   "metadata": {
    "ExecuteTime": {
     "end_time": "2025-09-02T02:38:25.955569Z",
     "start_time": "2025-09-02T02:38:25.950974Z"
    }
   },
   "cell_type": "code",
   "source": [
    "# 세트 , 집합 , 1) 중복 불가 2) 집합 연산이 가능. 3) 순서 없음.\n",
    "# 리스트, 세트 간의 타입 변환이 자유롭다.\n",
    "a = [1,1,2,2,3,3]\n",
    "b = set(a)\n",
    "print(b)\n",
    "print(type(b))\n",
    "c = list(b)\n",
    "print(c)\n",
    "print(type(c))\n",
    "d = tuple(c)\n",
    "print(d)\n",
    "print(type(d))"
   ],
   "id": "ad264abb8709440d",
   "outputs": [
    {
     "name": "stdout",
     "output_type": "stream",
     "text": [
      "{1, 2, 3}\n",
      "<class 'set'>\n",
      "[1, 2, 3]\n",
      "<class 'list'>\n",
      "(1, 2, 3)\n",
      "<class 'tuple'>\n"
     ]
    }
   ],
   "execution_count": 4
  },
  {
   "metadata": {
    "ExecuteTime": {
     "end_time": "2025-09-02T02:58:47.793438Z",
     "start_time": "2025-09-02T02:58:47.788444Z"
    }
   },
   "cell_type": "code",
   "source": [
    "dic1 = {\"a\" :1, \"b\":2, \"c\": [100,200,300]}\n",
    "print(dic1[\"a\"])\n",
    "print(dic1[\"b\"])\n",
    "print(dic1[\"c\"])\n",
    "dic1[\"a\"] = 100\n",
    "print(dic1[\"a\"])\n",
    "dic1[\"d\"] = 1000\n",
    "print(dic1[\"d\"])\n",
    "print(dic1.keys())\n",
    "print(dic1.values())\n",
    "print(dic1.items())\n",
    "\n",
    "# 반복자 패턴,\n",
    "for k, v in dic1.items():\n",
    "    print(f\"키 : {k}, 값 : {v}\")\n"
   ],
   "id": "d483c473b74afa4b",
   "outputs": [
    {
     "name": "stdout",
     "output_type": "stream",
     "text": [
      "1\n",
      "2\n",
      "[100, 200, 300]\n",
      "100\n",
      "1000\n",
      "dict_keys(['a', 'b', 'c', 'd'])\n",
      "dict_values([100, 2, [100, 200, 300], 1000])\n",
      "dict_items([('a', 100), ('b', 2), ('c', [100, 200, 300]), ('d', 1000)])\n",
      "키 : a, 값 : 100\n",
      "키 : b, 값 : 2\n",
      "키 : c, 값 : [100, 200, 300]\n",
      "키 : d, 값 : 1000\n"
     ]
    }
   ],
   "execution_count": 10
  },
  {
   "metadata": {
    "ExecuteTime": {
     "end_time": "2025-09-02T04:58:29.547097Z",
     "start_time": "2025-09-02T04:58:29.542841Z"
    }
   },
   "cell_type": "code",
   "source": [
    "from collections import deque\n",
    "\n",
    "deque_list = deque()\n",
    "\n",
    " # 0 ~ 4, range(시작,끝, 증가값), 끝값은 미포함\n",
    "for i in range(5):\n",
    "  deque_list.append(i)\n",
    "print(f\"deque_list 출력 : {deque_list}\")\n",
    "\n",
    "# 스택처럼 하나씩 뒤에 값부터 4 꺼내기. pop() 이용\n",
    "deque_list.pop()\n",
    "print(f\"deque_list 출력 : {deque_list}\")\n",
    "\n",
    "# 스택처럼 하나씩 뒤에 값부터 3 꺼내기. pop() 이용\n",
    "deque_list.pop()\n",
    "print(f\"deque_list 출력 : {deque_list}\")"
   ],
   "id": "b0c0ebe392e83bf5",
   "outputs": [
    {
     "name": "stdout",
     "output_type": "stream",
     "text": [
      "deque_list 출력 : deque([0, 1, 2, 3, 4])\n",
      "deque_list 출력 : deque([0, 1, 2, 3])\n",
      "deque_list 출력 : deque([0, 1, 2])\n"
     ]
    }
   ],
   "execution_count": 14
  },
  {
   "metadata": {
    "ExecuteTime": {
     "end_time": "2025-09-02T05:05:38.773906Z",
     "start_time": "2025-09-02T05:05:38.769196Z"
    }
   },
   "cell_type": "code",
   "source": [
    "#deque , 각 요소의 다음 요소의 메모리 위치 주소값을 알고 있다.\n",
    "# 마지막 요소는 , 맨 처음 요소의 메모리 위치 주소값을 알고 있다.\n",
    "# 결론, 처음과 끝이 연결이 된구조가 되고, 이것을 이용해서,\n",
    "# 각 요소를 순회 시킬수 있다.\n",
    "# rotate() 함수를 이용해서, 각 요소를 이동이 가능하다.\n",
    "#deque , 큐처럼 사용하기, appendleft() 함수 이용하기.\n",
    "# 왼쪽부터 입력하게 해서, 들어간 값부터 출력하기. FIFO\n",
    "from collections import deque\n",
    "\n",
    "deque_list = deque()\n",
    "\n",
    " # 0 ~ 4, range(시작,끝, 증가값), 끝값은 미포함\n",
    "for i in range(5):\n",
    "  deque_list.appendleft(i)\n",
    "# 기존에 append 로 추가시, 오른쪽으로 추가했음.\n",
    "# [ 0,1,2,3,4]\n",
    "print(f\"deque_list 출력 : {deque_list}\")\n",
    "# deque_list 출력 : deque([4, 3, 2, 1, 0])\n",
    "\n",
    "# rotate() 함수 이용\n",
    "# 2칸 이동해보기.\n",
    "deque_list.rotate(2)\n",
    "print(f\"deque_list 출력 : {deque_list}\")"
   ],
   "id": "fe849859691d281f",
   "outputs": [
    {
     "name": "stdout",
     "output_type": "stream",
     "text": [
      "deque_list 출력 : deque([4, 3, 2, 1, 0])\n",
      "deque_list 출력 : deque([1, 0, 4, 3, 2])\n"
     ]
    }
   ],
   "execution_count": 16
  },
  {
   "metadata": {},
   "cell_type": "markdown",
   "source": [
    "파이썬의 deque는 'double-ended queue'의 약자로,\n",
    "리스트(list)와 비슷하지만 양쪽 끝에서 데이터를 빠르고 효율적으로 추가하거나 삭제할 수 있는 자료구조입니다.\n",
    "\n",
    "일반 리스트는 맨 뒤에 데이터를 추가(append)하거나 삭제(pop)하는 것은 빠르지만,\n",
    "맨 앞에 데이터를 추가하거나 삭제하면\n",
    "모든 기존 데이터의 위치를 한 칸씩 뒤로 밀거나 당겨야 해서 매우 비효율적입니다.\n",
    "deque는 이러한 단점을 보완하기 위해 만들어졌습니다.\n",
    "\n",
    "기본 개념 및 특징\n",
    "deque는 내부적으로 **이중 연결 리스트(doubly linked list)**로 구현되어 있어\n",
    "양 끝에서의 데이터 삽입/삭제가 O(1) 시간 복잡도를 가집니다.\n",
    "이는 데이터의 양에 관계없이 항상 일정한 속도를 보장한다는 의미입니다.\n",
    "\n",
    "장점: 양쪽 끝에서의 데이터 처리가 매우 빠르다.\n",
    "큐(Queue)나 스택(Stack)을 구현할 때 이상적이다.\n",
    "\n",
    "단점:\n",
    "중간에 있는 데이터에 접근(인덱싱)하는 것은 리스트보다 느리다. (리스트는 O(1), deque는 O(n))\n",
    "\n",
    "주요 용도:\n",
    "\n",
    "큐(Queue): 먼저 들어온 데이터가 먼저 나가는(FIFO) 구조를 구현할 때.\n",
    "\n",
    "스택(Stack): 나중에 들어온 데이터가 먼저 나가는(LIFO) 구조를 구현할 때.\n",
    "\n",
    "최근 항목 유지: maxlen 옵션을 사용하여 가장 최근의 N개 항목만 저장하는 용도.\n",
    "예시: 채팅 기록이나, 로그 기록등의 최신 데이터를 몇 개만 저장하고 싶을 때 유용하다."
   ],
   "id": "4dd43882b3868ba6"
  },
  {
   "metadata": {
    "ExecuteTime": {
     "end_time": "2025-09-02T05:23:30.444698Z",
     "start_time": "2025-09-02T05:23:30.438773Z"
    }
   },
   "cell_type": "code",
   "source": [
    "# reversed() 확인.\n",
    "from collections import deque\n",
    "\n",
    "deque_list = deque()\n",
    "\n",
    " # 0 ~ 4, range(시작,끝, 증가값), 끝값은 미포함\n",
    "for i in range(5):\n",
    "  deque_list.appendleft(i)\n",
    "# 기존에 append 로 추가시, 오른쪽으로 추가했음.\n",
    "# [ 0,1,2,3,4]\n",
    "print(f\"deque_list 출력 : {deque_list}\")\n",
    "# deque_list 출력 : deque([4, 3, 2, 1, 0])\n",
    "deque_list_reversed = deque(reversed(deque_list))\n",
    "print(f\"deque_list 출력 : {deque_list_reversed}\")"
   ],
   "id": "c6921fed09bd5340",
   "outputs": [
    {
     "name": "stdout",
     "output_type": "stream",
     "text": [
      "deque_list 출력 : deque([4, 3, 2, 1, 0])\n",
      "deque_list 출력 : deque([0, 1, 2, 3, 4])\n"
     ]
    }
   ],
   "execution_count": 17
  },
  {
   "metadata": {
    "ExecuteTime": {
     "end_time": "2025-09-02T05:23:35.883551Z",
     "start_time": "2025-09-02T05:23:35.878725Z"
    }
   },
   "cell_type": "code",
   "source": [
    "d= {} # {} , 딕션너리 의미\n",
    "d[\"x\"] = 1\n",
    "d[\"b\"] = 2\n",
    "d[\"d\"] = 4\n",
    "d[\"c\"] = 3\n",
    "d[\"e\"] = 5\n",
    "\n",
    "for k,v in d.items():\n",
    "  print(f\"key : {k}, value : {v}\")"
   ],
   "id": "e7c7ecda365a05a2",
   "outputs": [
    {
     "name": "stdout",
     "output_type": "stream",
     "text": [
      "key : x, value : 1\n",
      "key : b, value : 2\n",
      "key : d, value : 4\n",
      "key : c, value : 3\n",
      "key : e, value : 5\n"
     ]
    }
   ],
   "execution_count": 18
  },
  {
   "metadata": {},
   "cell_type": "markdown",
   "source": [
    "OrderedDict는 이름 그대로 **순서가 보장되는 딕셔너리(Dictionary)**입니다.\n",
    "데이터를 넣은 순서대로 키(key)의 순서가 유지되는 특징을 가집니다.\n",
    "중요한 점은,\n",
    "Python 3.7 버전부터는 일반 딕셔너리(dict)도\n",
    "입력된 순서를 기억하도록 변경되어\n",
    "OrderedDict의 필요성이 크게 줄었다는 것입니다.\n",
    "하지만 여전히 순서와 관련된 몇 가지 특별한 기능과 하위 버전 호환성을 위해 사용됩니다."
   ],
   "id": "f6aef72c635542ac"
  },
  {
   "metadata": {
    "ExecuteTime": {
     "end_time": "2025-09-02T05:23:50.691075Z",
     "start_time": "2025-09-02T05:23:50.653248Z"
    }
   },
   "cell_type": "code",
   "source": [
    "# 정렬 해보기.\n",
    "# OrderdDict , 순서있는 딕션너리 이용하기.\n",
    "def sort_by_key(t):\n",
    "  return t[0]\n",
    "\n",
    "from collections import OrderedDict\n",
    "d= OrderedDict()\n",
    "d[\"x\"] = 1\n",
    "d[\"b\"] = 2\n",
    "d[\"d\"] = 4\n",
    "d[\"c\"] = 3\n",
    "d[\"e\"] = 5\n",
    "\n",
    "# key 정렬해보기.\n",
    "for k,v in OrderedDict(sorted(d.items(), key=sort_by_key)).items():\n",
    "  print(f\"key : {k}, value : {v}\")"
   ],
   "id": "9815b5e38d272c06",
   "outputs": [
    {
     "name": "stdout",
     "output_type": "stream",
     "text": [
      "key : b, value : 2\n",
      "key : c, value : 3\n",
      "key : d, value : 4\n",
      "key : e, value : 5\n",
      "key : x, value : 1\n"
     ]
    }
   ],
   "execution_count": 19
  },
  {
   "metadata": {
    "ExecuteTime": {
     "end_time": "2025-09-02T06:02:58.673581Z",
     "start_time": "2025-09-02T06:02:58.667493Z"
    }
   },
   "cell_type": "code",
   "source": [
    "from collections import Counter\n",
    "f = open(\"yesterday.txt\",\"r\")\n",
    "yesterday_lyric = f.readlines()\n",
    "f.close()\n",
    "\n",
    "contents = \"\"\n",
    "for line in yesterday_lyric:\n",
    "    contents = contents + line.strip() + \"\\n\"\n",
    "\n",
    "print(contents)\n",
    "text = contents.lower().split()\n",
    "count_text = Counter(text)\n",
    "top5_list = count_text.most_common(5)\n",
    "print(top5_list)\n",
    "\n",
    "\n"
   ],
   "id": "4a4b72abf8af6122",
   "outputs": [
    {
     "name": "stdout",
     "output_type": "stream",
     "text": [
      "Yesterday\n",
      "All my troubles seemed so far away\n",
      "Now it looks as though they're here to stay\n",
      "Oh, I believe in yesterday\n",
      "\n",
      "Suddenly\n",
      "I'm not half the man I used to be\n",
      "There's a shadow hangin' over me\n",
      "Oh, yesterday came suddenly\n",
      "\n",
      "Why she had to go, I don't know, she wouldn't say\n",
      "I said something wrong, now I long for yesterday\n",
      "\n",
      "Yesterday\n",
      "Love was such an easy game to play\n",
      "Now I need a place to hide away\n",
      "Oh, I believe in yesterday\n",
      "\n",
      "Why she had to go, I don't know, she wouldn't say\n",
      "I said something wrong, now I long for yesterday\n",
      "\n",
      "Yesterday\n",
      "Love was such an easy game to play\n",
      "Now I need a place to hide away\n",
      "Oh, I believe in yesterday\n",
      "Mm mm mm mm mm mm mm\n",
      "\n",
      "[('i', 12), ('yesterday', 9), ('to', 8), ('mm', 7), ('now', 5)]\n"
     ]
    }
   ],
   "execution_count": 21
  },
  {
   "metadata": {},
   "cell_type": "markdown",
   "source": [
    "Counter는 이름 그대로 리스트나 문자열과 같은 반복 가능한(iterable) 객체\n",
    "안의 요소들이 몇 번 등장하는지 개수를 세어주는 딕셔너리 형태의 클래스입니다.\n",
    "\n",
    "데이터의 빈도수를 계산해야 할 때 매우 간결하고 효율적인 코드를 작성할 수 있도록 도와줍니다.\n",
    "\n",
    "기본 개념 및 특징\n",
    "Counter는 파이썬의 기본 dict를 상속받아 만들어졌으며,\n",
    "딕셔너리의 모든 기능을 포함하면서도 개수 세기에 특화된 유용한 기능들을 추가로 제공합니다.\n",
    "\n",
    "딕셔너리 기반: Counter 객체는 각 요소를 키(key)로, 해당 요소의 등장 횟수(빈도수)를 값(value)으로 가지는 딕셔너리입니다.\n",
    "\n",
    "자동 개수 세기: 반복 가능한(iterable) 데이터를 Counter에 전달하면,\n",
    "내부의 요소들을 알아서 세어 딕셔너리 형태로 정리해 줍니다.\n",
    "\n",
    "0 반환: 일반 딕셔너리와 달리,\n",
    "존재하지 않는 키에 접근해도 에러(KeyError)가 발생하지 않고 0을 반환하여 편리합니다.\n",
    "\n",
    "산술 연산 지원: Counter 객체끼리\n",
    "덧셈, 뺄셈 등의 연산이 가능하여 두 데이터 그룹 간의 빈도수를 쉽게 합치거나 뺄 수 있습니다.\n",
    "\n",
    "most_common(n)\n",
    "가장 빈도수가 높은 n개의 요소를 (요소, 개수) 형태의 튜플 리스트로 반환합니다.\n",
    "\n",
    "elements()\n",
    "Counter에 저장된 모든 요소를 개수만큼 반복해서 돌려주는 반복자(iterator)를 반환합니다.\n",
    "\n",
    "update(iterable)\n",
    "기존 Counter에 다른 iterable 객체의 요소 개수를 더합니다.\n",
    "subtract(iterable)\n",
    "기존 Counter에서 다른 iterable 객체의 요소 개수를 뺍니다."
   ],
   "id": "cd276e0f41f0280f"
  },
  {
   "metadata": {
    "ExecuteTime": {
     "end_time": "2025-09-02T06:03:17.774674Z",
     "start_time": "2025-09-02T06:03:17.767993Z"
    }
   },
   "cell_type": "code",
   "source": [
    "from collections import Counter\n",
    "\n",
    "sentence = \"파이썬 파이썬 정말 정말 정말 재미있다 파이썬 최고\"\n",
    "words = sentence.split() # 문장을 단어 리스트로 분리\n",
    "print(words)\n",
    "\n",
    "word_counts = Counter(words)\n",
    "\n",
    "# 가장 흔한 단어 3개 찾기\n",
    "top_3_words = word_counts.most_common(3)\n",
    "print(top_3_words)"
   ],
   "id": "b3e73aea00982024",
   "outputs": [
    {
     "name": "stdout",
     "output_type": "stream",
     "text": [
      "['파이썬', '파이썬', '정말', '정말', '정말', '재미있다', '파이썬', '최고']\n",
      "[('파이썬', 3), ('정말', 3), ('재미있다', 1)]\n"
     ]
    }
   ],
   "execution_count": 22
  },
  {
   "metadata": {
    "ExecuteTime": {
     "end_time": "2025-09-02T06:03:24.436975Z",
     "start_time": "2025-09-02T06:03:24.431537Z"
    }
   },
   "cell_type": "code",
   "source": [
    "from collections import Counter\n",
    "\n",
    "# 각 매장의 재고\n",
    "store1_inventory = Counter({'사과': 5, '바나나': 10, '오렌지': 3})\n",
    "store2_inventory = Counter({'사과': 3, '바나나': 5, '포도': 7})\n",
    "\n",
    "# 두 매장의 총 재고 합산\n",
    "total_inventory = store1_inventory + store2_inventory\n",
    "\n",
    "print(total_inventory)"
   ],
   "id": "fd372ed6067656e",
   "outputs": [
    {
     "name": "stdout",
     "output_type": "stream",
     "text": [
      "Counter({'바나나': 15, '사과': 8, '포도': 7, '오렌지': 3})\n"
     ]
    }
   ],
   "execution_count": 23
  },
  {
   "metadata": {},
   "cell_type": "markdown",
   "source": [
    "namedtuple은\n",
    "**이름이 붙은 필드를 갖는 튜플(tuple)**을 만드는 팩토리 함수입니다.\n",
    "일반 튜플처럼 인덱스([0], [1])로 접근할 수도 있고,\n",
    "마치 객체처럼 이름(point.x, point.y)으로도\n",
    "각 요소에 접근할 수 있어 코드의 가독성을 크게 향상시킵니다.\n",
    "자바로 치면, 해당 클래스의 인스턴스 멤버에 접근하는 것과 비슷하다.\n",
    "\n",
    "튜플의 특성인 **불변성(immutable)**과 **가벼움(lightweight)**은 그대로 유지하면서,\n",
    "각 데이터가 무엇을 의미하는지 명확하게 표현하고 싶을 때 사용합니다.\n",
    "\n",
    "기본 개념 및 특징\n",
    "일반 튜플은 데이터에 접근할 때 인덱스만 사용해야 해서,\n",
    "코드를 읽는 사람이 각 인덱스가 무엇을 의미하는지 기억하고 있어야 합니다.\n",
    "-> IDE 많이 발전을 해서, 함수의 정의, 튜플의 정의 부분 힌트 식으로 알려준다.\n",
    "(단, 유료 버전의 젯브레인 계열을 사용중이라서 그렇다. ), 오픈소스 IDE 사용하게 되면,\n",
    "이런 편의기능이 없을수 도 있다.\n",
    "\n",
    "일반 튜플: point = (10, 20)\n",
    "\n",
    "(여기서 point[0]이 x좌표인지 y좌표인지 바로 알기 어렵습니다.)\n",
    "\n",
    "namedtuple은 이 문제를 해결합니다.\n",
    "각 위치에 이름을 부여하여 코드를 훨씬 명확하고 읽기 쉽게 만듭니다.\n",
    "\n",
    "namedtuple:\n",
    "Point = namedtuple('Point', ['x', 'y']);\n",
    "p = Point(10, 20)\n",
    "\n",
    "(p.x, p.y처럼 이름으로 바로 접근하여 데이터의 의미를 명확히 알 수 있습니다.)\n",
    "\n",
    "주요 장점:\n",
    "\n",
    "가독성: student[1] 대신 student.name처럼 의미 있는 이름으로 데이터에 접근합니다.\n",
    "\n",
    "튜플의 특성 유지:\n",
    "생성된 후에는 값을 변경할 수 없고(불변성),\n",
    "일반 튜플처럼 메모리를 적게 사용하며, 딕셔너리의 키로도 사용할 수 있습니다.\n",
    "\n",
    "언패킹(Unpacking): x, y = p 와\n",
    "같이 일반 튜플처럼 값을 여러 변수에 나누어 할당할 수 있습니다."
   ],
   "id": "35ef4743a463beb1"
  },
  {
   "metadata": {
    "ExecuteTime": {
     "end_time": "2025-09-02T06:20:05.627817Z",
     "start_time": "2025-09-02T06:20:05.621928Z"
    }
   },
   "cell_type": "code",
   "source": [
    "# 기본 문법\n",
    "# namedtuple을 사용하려면 collections 모듈에서 가져와야 합니다.\n",
    "from collections import namedtuple\n",
    "\n",
    "# 선언 (새로운 namedtuple 타입 생성)\n",
    "# namedtuple은 두 개의 인자를 받습니다: (타입 이름, 필드 이름 리스트)\n",
    "# 1. 필드 이름을 리스트로 전달\n",
    "Point = namedtuple('Point', ['x', 'y'])\n",
    "\n",
    "# 2. 필드 이름을 공백으로 구분된 하나의 문자열로 전달 (더 간결함)\n",
    "Student = namedtuple('Student', 'id name email')\n",
    "\n",
    "# 객체 생성 (인스턴스화)\n",
    "# 선언된 타입을 사용하여 일반 클래스처럼 객체를 생성합니다.\n",
    "\n",
    "# 위치 인자로 생성\n",
    "p1 = Point(10, 20)\n",
    "\n",
    "# 키워드 인자로 생성 (순서 상관 없음)\n",
    "s1 = Student(id='s001', name='홍길동', email='gildong@example.com')\n",
    "\n",
    "# 데이터 접근\n",
    "# 이름 또는 인덱스로 접근할 수 있습니다.\n",
    "# 이름으로 접근 (권장)\n",
    "print(p1.x, p1.y)\n",
    "\n",
    "# 인덱스로 접근 (일반 튜플과 동일)\n",
    "print(s1[0], s1[1])\n",
    "print(s1.id, s1.name,s1.email)"
   ],
   "id": "bd91cba6cfc41324",
   "outputs": [
    {
     "name": "stdout",
     "output_type": "stream",
     "text": [
      "10 20\n",
      "s001 홍길동\n",
      "s001 홍길동 gildong@example.com\n"
     ]
    }
   ],
   "execution_count": 24
  }
 ],
 "metadata": {
  "kernelspec": {
   "display_name": "Python 3",
   "language": "python",
   "name": "python3"
  },
  "language_info": {
   "codemirror_mode": {
    "name": "ipython",
    "version": 2
   },
   "file_extension": ".py",
   "mimetype": "text/x-python",
   "name": "python",
   "nbconvert_exporter": "python",
   "pygments_lexer": "ipython2",
   "version": "2.7.6"
  }
 },
 "nbformat": 4,
 "nbformat_minor": 5
}
