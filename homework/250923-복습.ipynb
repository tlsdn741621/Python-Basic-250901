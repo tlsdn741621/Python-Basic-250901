{
 "cells": [
  {
   "metadata": {},
   "cell_type": "markdown",
   "source": [
    "\n",
    "🔹 기본 실습 1: 문자열 길이 구하기\n",
    "문제:\n",
    "사용자로부터 문자열을 입력받아, 해당 문자열의 길이를 출력하는 함수를 작성하세요.\n",
    "\n",
    "🔹 기본 실습 2: 문자열 뒤집기\n",
    "문제:\n",
    "사용자로부터 문자열을 입력받아, 해당 문자열을 뒤집어 반환하는 함수를 작성하세요.\n",
    "\n",
    "🔹 기본 실습 3: 특정 문자 개수 세기\n",
    "문제:\n",
    "사용자로부터 문자열과 특정 문자를 입력받아, 해당 문자가 문자열에 몇 개 포함되어 있는지 세는 함수를 작성하세요.\n",
    "\n",
    "\n",
    "🔹 응용 실습 1: 문자열 내 단어 개수 세기\n",
    "\n",
    "문제:\n",
    "사용자로부터 문장을 입력받아, 해당 문장에 포함된 단어의 개수를 반환하는 함수를 작성하세요.\n",
    "\n",
    "\n",
    "🔹 응용 실습 2: 대소문자 변환하기\n",
    "문제:\n",
    "사용자로부터 문자열을 입력받아, 모든 소문자를 대문자로, 대문자를 소문자로 변환하는 함수를 작성하세요.\n",
    "\n",
    "\n",
    "🔹 응용 실습 3: 회문(팰린드롬) 검사하기\n",
    "문제:\n",
    "사용자가 입력한 문자열이 회문(앞뒤가 동일한 문자열)인지 확인하는 함수를 작성하세요"
   ],
   "id": "49b41bc30370dd00"
  },
  {
   "metadata": {
    "ExecuteTime": {
     "end_time": "2025-09-03T00:16:14.557205Z",
     "start_time": "2025-09-03T00:16:06.331116Z"
    }
   },
   "cell_type": "code",
   "source": [
    "# 🔹 기본 실습 1:\n",
    "# 문자열 길이 구하기 문제: 사용자로부터 문자열을 입력받아,\n",
    "# 해당 문자열의 길이를 출력하는 함수를 작성하세요.\n",
    "def get_string_length(string):\n",
    "    return len(string)\n",
    "user_input = input(\"문자열을 입력해주세요: \")\n",
    "user_input_length = get_string_length(user_input)\n",
    "print(f\"입력한 문자열의 길이 : {user_input_length}\")\n",
    "\n"
   ],
   "id": "207b8e133897f3f9",
   "outputs": [
    {
     "name": "stdout",
     "output_type": "stream",
     "text": [
      "입력한 문자열의 길이 : 11\n"
     ]
    }
   ],
   "execution_count": 1
  },
  {
   "metadata": {
    "ExecuteTime": {
     "end_time": "2025-09-03T00:18:33.794016Z",
     "start_time": "2025-09-03T00:18:25.532493Z"
    }
   },
   "cell_type": "code",
   "source": [
    "# 🔹 기본 실습 2:\n",
    "# 문자열 뒤집기 문제:\n",
    "# 사용자로부터 문자열을 입력받아,\n",
    "# 해당 문자열을 뒤집어 반환하는 함수를 작성하세요.\n",
    "def reverse(string):\n",
    "    return string[::-1]\n",
    "user_input = input(\"문자열을 입력해주세요: \")\n",
    "user_input_reverse = reverse(user_input)\n",
    "print(f\"뒤집은 문장 출력 : {user_input_reverse}\")\n",
    "\n"
   ],
   "id": "9eb0e4cec0a8ee78",
   "outputs": [
    {
     "name": "stdout",
     "output_type": "stream",
     "text": [
      "뒤집은 문장 출력 : \n",
      "?지먹 뭐 심점 늘오\n"
     ]
    }
   ],
   "execution_count": 2
  },
  {
   "metadata": {
    "ExecuteTime": {
     "end_time": "2025-09-03T00:21:34.120263Z",
     "start_time": "2025-09-03T00:21:18.292638Z"
    }
   },
   "cell_type": "code",
   "source": [
    "# 🔹 기본 실습 3:\n",
    "# 특정 문자 개수 세기 문제:\n",
    "# 사용자로부터 문자열과 특정 문자를 입력받아,\n",
    "# 해당 문자가 문자열에 몇 개 포함되어 있는지 세는 함수를 작성하세요\n",
    "def count_character(string,char):\n",
    "    return string.count(char)\n",
    "user_input = input(\"문자열을 입력해주세요: \")\n",
    "char_input = input(\"찾을 문자를 입력해주세요: \")\n",
    "number_find_char = count_character(user_input,char_input)\n",
    "print(f\"찾을 문자의 갯수 : {number_find_char}\")"
   ],
   "id": "a8bed48836ddf8f1",
   "outputs": [
    {
     "name": "stdout",
     "output_type": "stream",
     "text": [
      "찾을 문자의 갯수 : 2\n"
     ]
    }
   ],
   "execution_count": 3
  },
  {
   "metadata": {},
   "cell_type": "code",
   "outputs": [],
   "execution_count": null,
   "source": [
    "# 🔹 응용 실습 1: 문자열 내 단어 개수 세기\n",
    "# 문제: 사용자로부터 문장을 입력받아,\n",
    "# 해당 문장에 포함된 단어의 개수를 반환하는 함수를 작성하세요.\n",
    "def count_character(string,char):\n",
    "    return string.count(char)\n",
    "user_input = input(\"문자열을 입력해주세요: \")\n",
    "char_input = input(\"찾을 문자를 입력해주세요: \")\n",
    "number_find_char = count_character(user_input,char_input)\n",
    "print(f\"찾을 문자의 갯수 : {number_find_char}\")\n"
   ],
   "id": "573014348da8cae1"
  },
  {
   "metadata": {
    "ExecuteTime": {
     "end_time": "2025-09-03T00:24:27.651984Z",
     "start_time": "2025-09-03T00:24:20.940078Z"
    }
   },
   "cell_type": "code",
   "source": [
    "# 🔹 응용 실습 2:\n",
    "# 대소문자 변환하기 문제:\n",
    "# 사용자로부터 문자열을 입력받아, 모든 소문자를 대문자로,\n",
    "# 대문자를 소문자로 변환하는 함수를 작성하세요.\n",
    "def swap_case(string):\n",
    "    return string.swapcase()\n",
    "\n",
    "user_input = input(\"영어로 문자열을 입력해주세요: \")\n",
    "user_input_swap_case = swap_case(user_input)\n",
    "print(f\"대문자, 소문자 , 서로 교체 하기 : {user_input_swap_case}\")\n",
    "\n"
   ],
   "id": "ad3d066a91f992f5",
   "outputs": [
    {
     "name": "stdout",
     "output_type": "stream",
     "text": [
      "대문자, 소문자 , 서로 교체 하기 : HELLO WORLD\n"
     ]
    }
   ],
   "execution_count": 4
  },
  {
   "metadata": {
    "ExecuteTime": {
     "end_time": "2025-09-03T00:27:27.962979Z",
     "start_time": "2025-09-03T00:27:25.500594Z"
    }
   },
   "cell_type": "code",
   "source": [
    "# 🔹 응용 실습 3:\n",
    "# 회문(팰린드롬) 검사하기 문제:\n",
    "# 사용자가 입력한 문자열이 회문(앞뒤가 동일한 문자열)인지\n",
    "# 확인하는 함수를 작성하세요\n",
    "def is_test(string):\n",
    "    return string == string[::-1]\n",
    "\n",
    "user_input = input(\"영어로 문자열을 입력해주세요: \")\n",
    "check = is_test(user_input)\n",
    "if check:\n",
    "    print(f\"원문과 뒤집은 문장이 일치합니다.\")\n",
    "else:\n",
    "    print(f\"원문과 뒤집은 문장이 일치 안합니다.\")"
   ],
   "id": "20d7fe143cc198c6",
   "outputs": [
    {
     "name": "stdout",
     "output_type": "stream",
     "text": [
      "원문과 뒤집은 문장이 일치 안합니다.\n"
     ]
    }
   ],
   "execution_count": 6
  }
 ],
 "metadata": {
  "kernelspec": {
   "display_name": "Python 3",
   "language": "python",
   "name": "python3"
  },
  "language_info": {
   "codemirror_mode": {
    "name": "ipython",
    "version": 2
   },
   "file_extension": ".py",
   "mimetype": "text/x-python",
   "name": "python",
   "nbconvert_exporter": "python",
   "pygments_lexer": "ipython2",
   "version": "2.7.6"
  }
 },
 "nbformat": 4,
 "nbformat_minor": 5
}
