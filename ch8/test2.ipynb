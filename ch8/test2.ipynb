{
 "cells": [
  {
   "cell_type": "code",
   "id": "initial_id",
   "metadata": {
    "collapsed": true,
    "ExecuteTime": {
     "end_time": "2025-09-05T02:07:10.401278Z",
     "start_time": "2025-09-05T02:07:03.933246Z"
    }
   },
   "source": [
    "from tkinter import Tk, Label, Entry,Button\n",
    "window = Tk()  # 메인 창 생성\n",
    "window.title(\"도서 관리 시스템\")\n",
    "# 창 제목 설정\n",
    "# window.title(\"샘플 tk UI 테스트\")\n",
    "#고정크기\n",
    "# window.resizable(width=False, height=False)\n",
    "window.geometry(\"700x400\")\n",
    "label = Label(window, text=\"도서 제목 입력\")\n",
    "# 텍스트 라벨 생성\n",
    "label.pack()  # 화면에 표시\n",
    "entry = Entry(window, width=20)  # 입력 필드 생성\n",
    "entry.pack()\n",
    "btn = Button(window, text=\"클릭하세요\")\n",
    "btn.pack()\n",
    "window.mainloop()"
   ],
   "outputs": [],
   "execution_count": 1
  },
  {
   "metadata": {
    "ExecuteTime": {
     "end_time": "2025-09-05T02:16:31.045785Z",
     "start_time": "2025-09-05T02:16:27.879609Z"
    }
   },
   "cell_type": "code",
   "source": [
    "from tkinter import Tk, Frame, Button\n",
    "window = Tk()\n",
    "frame = Frame(window)  # 프레임 생성\n",
    "frame.pack()\n",
    "Button(frame, text=\"버튼 1\").pack(side=\"left\")\n",
    "Button(frame, text=\"버튼 2\").pack(side=\"right\")\n",
    "window.mainloop()"
   ],
   "id": "525a1a6deb243f38",
   "outputs": [],
   "execution_count": 6
  },
  {
   "metadata": {},
   "cell_type": "code",
   "outputs": [],
   "execution_count": null,
   "source": [
    "from tkinter import Tk, Listbox\n",
    "window = Tk()\n",
    "listbox = Listbox(window)\n",
    "listbox.pack()\n",
    "listbox.insert(0, \"\")\n",
    "listbox.insert(1, \"JavaScript\")\n",
    "listbox.insert(2, \"C++\")\n",
    "window.mainloop()"
   ],
   "id": "4bbc2e4a41ed5d3f"
  },
  {
   "metadata": {},
   "cell_type": "code",
   "outputs": [],
   "execution_count": null,
   "source": [
    "from tkinter import Tk, Button\n",
    "window = Tk()\n",
    "Button(window, text=\"위\").pack(side=\"top\")\n",
    "Button(window, text=\"아래\").pack(side=\"bottom\")\n",
    "window.mainloop()"
   ],
   "id": "488539ea17be80a3"
  },
  {
   "metadata": {},
   "cell_type": "code",
   "outputs": [],
   "execution_count": null,
   "source": [
    "from tkinter import Tk, Label, Entry\n",
    "window = Tk()\n",
    "Label(window, text=\"이름\").grid(row=0, column=0)\n",
    "Entry(window).grid(row=0, column=1)\n",
    "Label(window, text=\"이메일\").grid(row=1, column=0)\n",
    "Entry(window).grid(row=1, column=1)\n",
    "window.mainloop()"
   ],
   "id": "6890c11fe9628f33"
  },
  {
   "metadata": {},
   "cell_type": "code",
   "outputs": [],
   "execution_count": null,
   "source": [
    "from tkinter import Tk, Button\n",
    "window = Tk()\n",
    "btn = Button(window, text=\"절대 위치 버튼\")\n",
    "btn.place(x=50, y=50)  # x=50, y=50 위치에 배치\n",
    "window.mainloop()"
   ],
   "id": "48a45ea0f73a0609"
  },
  {
   "metadata": {},
   "cell_type": "code",
   "outputs": [],
   "execution_count": null,
   "source": [
    "from tkinter import Tk, messagebox\n",
    "window = Tk()\n",
    "messagebox.showinfo(\"알림\", \"작업이 완료되었습니다!\")"
   ],
   "id": "ac18a15b3ec0033e"
  },
  {
   "metadata": {},
   "cell_type": "code",
   "outputs": [],
   "execution_count": null,
   "source": [
    "from tkinter import Tk, Checkbutton, IntVar\n",
    "window = Tk()\n",
    "chk_var = IntVar()  # 0(체크 해제) 또는 1(체크)\n",
    "chk = Checkbutton(window, text=\"동의합니다\", variable=chk_var)\n",
    "chk.pack()\n",
    "window.mainloop()"
   ],
   "id": "1c57e99db5eadcce"
  },
  {
   "metadata": {},
   "cell_type": "code",
   "outputs": [],
   "execution_count": null,
   "source": [
    "from tkinter import Tk, Radiobutton, IntVar\n",
    "window = Tk()\n",
    "radio_var = IntVar()\n",
    "Radiobutton(window, text=\"옵션 1\", variable=radio_var, value=1).pack()\n",
    "Radiobutton(window, text=\"옵션 2\", variable=radio_var, value=2).pack()\n",
    "window.mainloop()"
   ],
   "id": "230d05a85a04fbbf"
  },
  {
   "metadata": {},
   "cell_type": "code",
   "outputs": [],
   "execution_count": null,
   "source": [
    "from tkinter import Tk, Text, Scrollbar\n",
    "window = Tk()\n",
    "text = Text(window, height=10, width=40)\n",
    "text.pack(side=\"left\")\n",
    "scroll = Scrollbar(window, command=text.yview)\n",
    "scroll.pack(side=\"right\", fill=\"y\")\n",
    "text.config(yscrollcommand=scroll.set)\n",
    "window.mainloop()"
   ],
   "id": "e478c3e82c03b094"
  },
  {
   "metadata": {},
   "cell_type": "code",
   "outputs": [],
   "execution_count": null,
   "source": [
    "from tkinter import Tk, Toplevel, Button\n",
    "window = Tk()\n",
    "def open_new_window():\n",
    "    new_win = Toplevel(window)\n",
    "    new_win.title(\"새 창\")\n",
    "    new_win.geometry(\"300x200\")\n",
    "Button(window, text=\"새 창 열기\", command=open_new_window).pack()\n",
    "window.mainloop()"
   ],
   "id": "e910767bc49df41f"
  },
  {
   "metadata": {},
   "cell_type": "code",
   "outputs": [],
   "execution_count": null,
   "source": [
    "from tkinter import Tk, Spinbox\n",
    "window = Tk()\n",
    "spinbox = Spinbox(window, from_=1, to=10)\n",
    "spinbox.pack()\n",
    "window.mainloop()"
   ],
   "id": "c2d9cdb1e8db2de1"
  },
  {
   "metadata": {},
   "cell_type": "code",
   "outputs": [],
   "execution_count": null,
   "source": [
    "from tkinter import Tk\n",
    "from tkinter.ttk import Combobox\n",
    "window = Tk()\n",
    "combo = Combobox(window, values=[\"\", \"Java\", \"C++\"])\n",
    "combo.pack()\n",
    "window.mainloop()"
   ],
   "id": "2a513c7f3f4449dc"
  },
  {
   "metadata": {},
   "cell_type": "code",
   "outputs": [],
   "execution_count": null,
   "source": [
    "from tkinter import Tk, Canvas\n",
    "window = Tk()\n",
    "canvas = Canvas(window, width=200, height=100)\n",
    "canvas.pack()\n",
    "canvas.create_rectangle(50, 20, 150, 80, fill=\"blue\")\n",
    " # 파란색 사각형\n",
    "window.mainloop()"
   ],
   "id": "805d958a4287e223"
  },
  {
   "metadata": {},
   "cell_type": "code",
   "outputs": [],
   "execution_count": null,
   "source": [
    "# 이미지 확장자를 gif 만 지원하는 관계로\n",
    "# 다른 라이브러리 대체, Pillow\n",
    "# pip install Pillow\n",
    "# 간단 사용법\n",
    "# 임포트, 순서0\n",
    "from PIL import ImageTk, Image\n",
    "# Pillow 라이브러리에서 필요한 모듈 가져오기\n",
    "# 사용 방법\n",
    "# 순서1\n",
    "# image_file = Image.open(\"test1.jpg\")\n",
    "#\n",
    "# Pillow 이미지를 Tkinter에서 사용할 수 있는 PhotoImage 객체로 변환합니다.\n",
    "# 순서2\n",
    "#     img = ImageTk.PhotoImage(image_file)\n",
    "# 순서3\n",
    "# label = Label(window, image=img)"
   ],
   "id": "96ec9b78f9443e1f"
  },
  {
   "metadata": {
    "ExecuteTime": {
     "end_time": "2025-09-05T02:42:21.772757Z",
     "start_time": "2025-09-05T02:42:19.744457Z"
    }
   },
   "cell_type": "code",
   "source": [
    "from tkinter import Tk, Label\n",
    "from PIL import ImageTk, Image\n",
    "\n",
    "window = Tk()\n",
    "window.title(\"이미지 리사이즈\")\n",
    "\n",
    "try:\n",
    "    # 1. 원본 이미지 열기\n",
    "    image_file = Image.open(\"test1.jpg\")\n",
    "\n",
    "    # 2. 이미지 크기 조절, Image.Resampling.LANCZOS :화질의 손실을 최소화하는 옵션\n",
    "    resized_image = image_file.resize((500, 350), Image.Resampling.LANCZOS)\n",
    "\n",
    "    # 3. 크기가 \"조절된\" 이미지를 Tkinter용 이미지로 변환 (수정된 부분)\n",
    "    img = ImageTk.PhotoImage(resized_image)\n",
    "\n",
    "    # 4. 레이블에 이미지 표시 및 참조 유지\n",
    "    label = Label(window, image=img)\n",
    "    label.image = img\n",
    "    label.pack()\n",
    "\n",
    "except FileNotFoundError:\n",
    "    label = Label(window, text=\"이미지 파일(test1.jpg)을 찾을 수 없습니다.\")\n",
    "    label.pack(padx=20, pady=20)\n",
    "\n",
    "\n",
    "window.mainloop()"
   ],
   "id": "bfc378d823c91cd",
   "outputs": [],
   "execution_count": 7
  },
  {
   "metadata": {},
   "cell_type": "code",
   "outputs": [],
   "execution_count": null,
   "source": [
    "from tkinter import Tk, Label\n",
    "window = Tk()\n",
    "label = Label(window, text=\"5초 후 변경됩니다!\")\n",
    "label.pack()\n",
    "def change_text():\n",
    "    label.config(text=\"변경 완료!\")\n",
    "window.after(5000, change_text)  # 5초 후 실행\n",
    "window.mainloop()"
   ],
   "id": "b14764e210e2b568"
  },
  {
   "metadata": {},
   "cell_type": "code",
   "outputs": [],
   "execution_count": null,
   "source": [
    "from tkinter import Tk, Label\n",
    "window = Tk()\n",
    "label = Label(window, text=\"키를 눌러보세요\")\n",
    "label.pack()\n",
    "def key_pressed(event):\n",
    "    label.config(text=f\"'{event.char}' 키가 눌렸습니다\")\n",
    "window.bind(\"<KeyPress>\", key_pressed)\n",
    "window.mainloop()"
   ],
   "id": "790b599cd6fb971b"
  }
 ],
 "metadata": {
  "kernelspec": {
   "display_name": "Python 3",
   "language": "python",
   "name": "python3"
  },
  "language_info": {
   "codemirror_mode": {
    "name": "ipython",
    "version": 2
   },
   "file_extension": ".py",
   "mimetype": "text/x-python",
   "name": "python",
   "nbconvert_exporter": "python",
   "pygments_lexer": "ipython2",
   "version": "2.7.6"
  }
 },
 "nbformat": 4,
 "nbformat_minor": 5
}
